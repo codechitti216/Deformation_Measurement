{
 "cells": [
  {
   "cell_type": "code",
   "execution_count": 1,
   "metadata": {},
   "outputs": [
    {
     "name": "stdout",
     "output_type": "stream",
     "text": [
      "Requirement already satisfied: opencv-python in c:\\users\\surya\\appdata\\local\\packages\\pythonsoftwarefoundation.python.3.11_qbz5n2kfra8p0\\localcache\\local-packages\\python311\\site-packages (4.9.0.80)Note: you may need to restart the kernel to use updated packages.\n",
      "\n",
      "Requirement already satisfied: numpy>=1.21.2 in c:\\users\\surya\\appdata\\local\\packages\\pythonsoftwarefoundation.python.3.11_qbz5n2kfra8p0\\localcache\\local-packages\\python311\\site-packages (from opencv-python) (1.24.3)\n"
     ]
    },
    {
     "name": "stderr",
     "output_type": "stream",
     "text": [
      "\n",
      "[notice] A new release of pip is available: 23.2.1 -> 24.0\n",
      "[notice] To update, run: C:\\Users\\SURYA\\AppData\\Local\\Microsoft\\WindowsApps\\PythonSoftwareFoundation.Python.3.11_qbz5n2kfra8p0\\python.exe -m pip install --upgrade pip\n"
     ]
    }
   ],
   "source": [
    "pip install opencv-python"
   ]
  },
  {
   "cell_type": "code",
   "execution_count": 2,
   "metadata": {
    "scrolled": false
   },
   "outputs": [
    {
     "ename": "error",
     "evalue": "OpenCV(4.9.0) D:\\a\\opencv-python\\opencv-python\\opencv\\modules\\imgproc\\src\\resize.cpp:4152: error: (-215:Assertion failed) !ssize.empty() in function 'cv::resize'\n",
     "output_type": "error",
     "traceback": [
      "\u001b[1;31m---------------------------------------------------------------------------\u001b[0m",
      "\u001b[1;31merror\u001b[0m                                     Traceback (most recent call last)",
      "Cell \u001b[1;32mIn[2], line 21\u001b[0m\n\u001b[0;32m     18\u001b[0m \u001b[38;5;28;01mwhile\u001b[39;00m(succ):\n\u001b[0;32m     20\u001b[0m     succ, frame2 \u001b[38;5;241m=\u001b[39m cap\u001b[38;5;241m.\u001b[39mread()\n\u001b[1;32m---> 21\u001b[0m     frame2 \u001b[38;5;241m=\u001b[39m \u001b[43mcv2\u001b[49m\u001b[38;5;241;43m.\u001b[39;49m\u001b[43mresize\u001b[49m\u001b[43m(\u001b[49m\u001b[43mframe2\u001b[49m\u001b[43m,\u001b[49m\u001b[43m \u001b[49m\u001b[43m(\u001b[49m\u001b[38;5;241;43m960\u001b[39;49m\u001b[43m,\u001b[49m\u001b[43m \u001b[49m\u001b[38;5;241;43m540\u001b[39;49m\u001b[43m)\u001b[49m\u001b[43m)\u001b[49m\n\u001b[0;32m     27\u001b[0m     \u001b[38;5;28;01mif\u001b[39;00m cv2\u001b[38;5;241m.\u001b[39mwaitKey(\u001b[38;5;241m1\u001b[39m) \u001b[38;5;241m==\u001b[39m \u001b[38;5;241m27\u001b[39m \u001b[38;5;129;01mor\u001b[39;00m (\u001b[38;5;129;01mnot\u001b[39;00m succ):\n\u001b[0;32m     28\u001b[0m             cap\u001b[38;5;241m.\u001b[39mrelease()\n",
      "\u001b[1;31merror\u001b[0m: OpenCV(4.9.0) D:\\a\\opencv-python\\opencv-python\\opencv\\modules\\imgproc\\src\\resize.cpp:4152: error: (-215:Assertion failed) !ssize.empty() in function 'cv::resize'\n"
     ]
    },
    {
     "ename": "",
     "evalue": "",
     "output_type": "error",
     "traceback": [
      "\u001b[1;31mThe Kernel crashed while executing code in the current cell or a previous cell. \n",
      "\u001b[1;31mPlease review the code in the cell(s) to identify a possible cause of the failure. \n",
      "\u001b[1;31mClick <a href='https://aka.ms/vscodeJupyterKernelCrash'>here</a> for more info. \n",
      "\u001b[1;31mView Jupyter <a href='command:jupyter.viewOutput'>log</a> for further details."
     ]
    }
   ],
   "source": [
    "import cv2\n",
    "import numpy as np\n",
    "import pandas as pd\n",
    "\n",
    "\n",
    "lower1 = np.array([0, 55, 135], dtype=\"uint8\")\n",
    "upper1 = np.array([179, 255, 255], dtype=\"uint8\")\n",
    "\n",
    "\n",
    "\n",
    "\n",
    "cap = cv2.VideoCapture('front50.mp4')\n",
    "\n",
    "\n",
    "pavgx = 0\n",
    "cl = 0\n",
    "succ = True\n",
    "while(succ):\n",
    "    \n",
    "    succ, frame2 = cap.read()\n",
    "    frame2 = cv2.resize(frame2, (960, 540))\n",
    "    \n",
    "        \n",
    "    \n",
    "    \n",
    "    \n",
    "    if cv2.waitKey(1) == 27 or (not succ):\n",
    "            cap.release()\n",
    "            cv2.destroyAllWindows()\n",
    "            continue\n",
    "    cv2.imshow('wind', frame2)\n",
    "    mask2 = np.zeros_like(frame2)\n",
    "\n",
    "    image2 = cv2.cvtColor(frame2, cv2.COLOR_BGR2HSV)\n",
    "    mask1 = cv2.inRange(image2, lower1, upper1)\n",
    "    cnts1 = cv2.findContours(mask1, cv2.RETR_EXTERNAL, cv2.CHAIN_APPROX_SIMPLE)\n",
    "    cnts1 = cnts1[0] if len(cnts1) == 2 else cnts1[1]\n",
    "    \n",
    "    con = []\n",
    "    for j in cnts1:\n",
    "        j  = list(j)\n",
    "        for k in j:\n",
    "            k = list(k)\n",
    "            con.append(list(k[0]))\n",
    "    \n",
    "    avgx = 0\n",
    "    avgy = 0\n",
    "    p = len(con)\n",
    "    for j in con:\n",
    "        x = j[0]\n",
    "        y = j[1]\n",
    "        avgy+=y\n",
    "        if(x<100):\n",
    "            p-=1\n",
    "            continue\n",
    "        avgx+=x\n",
    "\n",
    "    avgx/= p\n",
    "    avgy/=len(con)\n",
    "    \n",
    "    avgx = int(avgx)\n",
    "    avgy = int(avgy)\n",
    "    \n",
    "    if pavgx == 0:\n",
    "        pavgx = avgx\n",
    "    else:\n",
    "        cl = abs(avgx - pavgx)\n",
    "\n",
    "    for j in con:\n",
    "        x = j[0]\n",
    "        y = j[1]\n",
    "        if(x<100):\n",
    "            continue\n",
    "        if(x>80+pavgx or y< avgy-100 or y>50+avgy):\n",
    "            continue\n",
    "        cv2.circle(mask2 , (x,y),1, (36,255,12), -1)\n",
    "    \n",
    "    cv2.circle(mask2 , (485,avgy),5, (36,255,255), -1)\n",
    "    \n",
    "    cv2.imshow('mask2',mask2)\n",
    "    cv2.imshow('mask1',mask1)\n",
    "    \n",
    "        "
   ]
  },
  {
   "cell_type": "code",
   "execution_count": null,
   "metadata": {},
   "outputs": [],
   "source": [
    "# image2 = cv2.cvtColor(frame2, cv2.COLOR_BGR2HSV)\n",
    "# mask1 = cv2.inRange(image2, lower1, upper1)\n",
    "# cnts1 = cv2.findContours(mask1, cv2.RETR_EXTERNAL, cv2.CHAIN_APPROX_SIMPLE)\n",
    "# cnts1 = cnts1[0] if len(cnts1) == 2 else cnts1[1]\n",
    "\n",
    "# con = []\n",
    "# for j in cnts1:\n",
    "#     j  = list(j)\n",
    "#     for k in j:\n",
    "#         k = list(k)\n",
    "#         con.append(list(k[0]))\n",
    "        \n",
    "        \n",
    "\n",
    "# print(len(con))\n",
    "\n",
    "# avgx = 0\n",
    "# for j in con:\n",
    "#     x = j[0]\n",
    "#     y = j[1]\n",
    "#     avgx+=x\n",
    "\n",
    "# avgx/= len(con)\n",
    "\n",
    "# for j in con:\n",
    "#     x = j[0]\n",
    "#     y = j[1]\n",
    "#     if(x>70+avgx or x<avgx-370):\n",
    "#         continue\n",
    "#     cv2.circle(mask2 , (x,y),1, (36,255,12), -1)\n",
    "\n",
    "\n",
    "\n",
    "# cv2.imshow('x', mask2)\n",
    "        \n",
    "        \n",
    "# cv2.waitKey(0)\n",
    "# cv2.destroyAllWindows()\n",
    "# cv2.waitKey(1)"
   ]
  }
 ],
 "metadata": {
  "kernelspec": {
   "display_name": "Python 3 (ipykernel)",
   "language": "python",
   "name": "python3"
  },
  "language_info": {
   "codemirror_mode": {
    "name": "ipython",
    "version": 3
   },
   "file_extension": ".py",
   "mimetype": "text/x-python",
   "name": "python",
   "nbconvert_exporter": "python",
   "pygments_lexer": "ipython3",
   "version": "3.11.7"
  }
 },
 "nbformat": 4,
 "nbformat_minor": 2
}
